{
 "cells": [
  {
   "cell_type": "code",
   "execution_count": 18,
   "metadata": {},
   "outputs": [],
   "source": [
    "import pickle\n",
    "import streamlit as st\n",
    "\n",
    "# Load model\n",
    "gastype = pickle.load(open('Estimasi_Konsumsi_Bahan_Bakar.sav', 'rb'))\n",
    "\n",
    "# Title\n",
    "st.title('Estimasi Konsumsi Bahan Bakar')\n",
    "\n",
    "# Input variables\n",
    "distance = st.number_input('Input Jarak Yang Ditempuh')\n",
    "speed = st.number_input('Input Kecepatan')\n",
    "temp_inside = st.number_input('Input Suhu Udara Dalam')\n",
    "temp_outside = st.number_input('Input Suhu Udara Luar')\n",
    "\n",
    "# Gas type selection\n",
    "gas_type_options = {1: 'Petrol', 2: 'Diesel', 3: 'CNG'}  # Map numbers to gas types\n",
    "gas_type = st.selectbox('Input Jenis Bahan Bakar', options=list(gas_type_options.values()))\n",
    "\n",
    "# Convert gas type back to numerical value for prediction\n",
    "gas_type_numeric = list(gas_type_options.keys())[list(gas_type_options.values()).index(gas_type)]\n",
    "\n",
    "# Prediction button\n",
    "if st.button('Estimasi Konsumsi Bahan Bakar'):\n",
    "    # Predict fuel consumption\n",
    "    predict = gastype.predict([[distance, speed, temp_inside, temp_outside, gas_type_numeric]])\n",
    "    st.write('Estimasi Konsumsi Bahan Bakar : ', predict)\n"
   ]
  },
  {
   "cell_type": "code",
   "execution_count": null,
   "metadata": {},
   "outputs": [],
   "source": []
  }
 ],
 "metadata": {
  "kernelspec": {
   "display_name": "myenv",
   "language": "python",
   "name": "python3"
  },
  "language_info": {
   "codemirror_mode": {
    "name": "ipython",
    "version": 3
   },
   "file_extension": ".py",
   "mimetype": "text/x-python",
   "name": "python",
   "nbconvert_exporter": "python",
   "pygments_lexer": "ipython3",
   "version": "3.11.7"
  }
 },
 "nbformat": 4,
 "nbformat_minor": 2
}
